{
 "cells": [
  {
   "cell_type": "markdown",
   "metadata": {},
   "source": [
    "### Business problem statement"
   ]
  },
  {
   "cell_type": "markdown",
   "metadata": {},
   "source": [
    "#### Traffic sign recognition is a multi-class classification problem with unbalanced class frequencies. Traffic signs can provide a wide range of variations between classes in terms of color, shape, and the presence of pictograms or text. However, there exist subsets of classes (e. g., speed limit signs) that are very similar to each other.\n",
    "\n",
    "#### Here we have to determine the boundary box where the traffic signal is and we have to classify which class the signal belongs to\n",
    "#### Identifying boundary box is a Regression model and Classifying the traffic signal is a Classification Model."
   ]
  },
  {
   "cell_type": "markdown",
   "metadata": {},
   "source": [
    "### Metrics\n",
    "##### F1 score (for Classification)\n",
    "##### MSE (for Regression)"
   ]
  },
  {
   "cell_type": "markdown",
   "metadata": {},
   "source": [
    "Dataset: http://benchmark.ini.rub.de/?section=gtsrb&subsection=dataset"
   ]
  },
  {
   "cell_type": "code",
   "execution_count": 1,
   "metadata": {},
   "outputs": [],
   "source": [
    "import pandas as pd\n",
    "from PIL import Image"
   ]
  },
  {
   "cell_type": "code",
   "execution_count": 2,
   "metadata": {},
   "outputs": [],
   "source": [
    "df= pd.read_csv(r\"C:\\Users\\Abhishek\\Desktop\\GTSRB-Training_fixed\\GTSRB\\Training\\00000\\GT-00000.csv\",sep=';')"
   ]
  },
  {
   "cell_type": "code",
   "execution_count": 3,
   "metadata": {},
   "outputs": [
    {
     "data": {
      "text/html": [
       "<div>\n",
       "<style scoped>\n",
       "    .dataframe tbody tr th:only-of-type {\n",
       "        vertical-align: middle;\n",
       "    }\n",
       "\n",
       "    .dataframe tbody tr th {\n",
       "        vertical-align: top;\n",
       "    }\n",
       "\n",
       "    .dataframe thead th {\n",
       "        text-align: right;\n",
       "    }\n",
       "</style>\n",
       "<table border=\"1\" class=\"dataframe\">\n",
       "  <thead>\n",
       "    <tr style=\"text-align: right;\">\n",
       "      <th></th>\n",
       "      <th>Filename</th>\n",
       "      <th>Width</th>\n",
       "      <th>Height</th>\n",
       "      <th>Roi.X1</th>\n",
       "      <th>Roi.Y1</th>\n",
       "      <th>Roi.X2</th>\n",
       "      <th>Roi.Y2</th>\n",
       "      <th>ClassId</th>\n",
       "    </tr>\n",
       "  </thead>\n",
       "  <tbody>\n",
       "    <tr>\n",
       "      <th>0</th>\n",
       "      <td>00000_00000.ppm</td>\n",
       "      <td>29</td>\n",
       "      <td>30</td>\n",
       "      <td>5</td>\n",
       "      <td>6</td>\n",
       "      <td>24</td>\n",
       "      <td>25</td>\n",
       "      <td>0</td>\n",
       "    </tr>\n",
       "    <tr>\n",
       "      <th>1</th>\n",
       "      <td>00000_00001.ppm</td>\n",
       "      <td>30</td>\n",
       "      <td>30</td>\n",
       "      <td>5</td>\n",
       "      <td>5</td>\n",
       "      <td>25</td>\n",
       "      <td>25</td>\n",
       "      <td>0</td>\n",
       "    </tr>\n",
       "    <tr>\n",
       "      <th>2</th>\n",
       "      <td>00000_00002.ppm</td>\n",
       "      <td>30</td>\n",
       "      <td>30</td>\n",
       "      <td>5</td>\n",
       "      <td>5</td>\n",
       "      <td>25</td>\n",
       "      <td>25</td>\n",
       "      <td>0</td>\n",
       "    </tr>\n",
       "    <tr>\n",
       "      <th>3</th>\n",
       "      <td>00000_00003.ppm</td>\n",
       "      <td>31</td>\n",
       "      <td>31</td>\n",
       "      <td>5</td>\n",
       "      <td>5</td>\n",
       "      <td>26</td>\n",
       "      <td>26</td>\n",
       "      <td>0</td>\n",
       "    </tr>\n",
       "    <tr>\n",
       "      <th>4</th>\n",
       "      <td>00000_00004.ppm</td>\n",
       "      <td>30</td>\n",
       "      <td>32</td>\n",
       "      <td>5</td>\n",
       "      <td>6</td>\n",
       "      <td>25</td>\n",
       "      <td>26</td>\n",
       "      <td>0</td>\n",
       "    </tr>\n",
       "  </tbody>\n",
       "</table>\n",
       "</div>"
      ],
      "text/plain": [
       "          Filename  Width  Height  Roi.X1  Roi.Y1  Roi.X2  Roi.Y2  ClassId\n",
       "0  00000_00000.ppm     29      30       5       6      24      25        0\n",
       "1  00000_00001.ppm     30      30       5       5      25      25        0\n",
       "2  00000_00002.ppm     30      30       5       5      25      25        0\n",
       "3  00000_00003.ppm     31      31       5       5      26      26        0\n",
       "4  00000_00004.ppm     30      32       5       6      25      26        0"
      ]
     },
     "execution_count": 3,
     "metadata": {},
     "output_type": "execute_result"
    }
   ],
   "source": [
    "df.head()"
   ]
  },
  {
   "cell_type": "markdown",
   "metadata": {},
   "source": [
    "### Taking all the files in a list as to read from path"
   ]
  },
  {
   "cell_type": "code",
   "execution_count": 4,
   "metadata": {},
   "outputs": [],
   "source": [
    "import os\n",
    "path='C:/Users/Abhishek/Desktop/GTSRB-Training_fixed/GTSRB/Training/'\n",
    "pa=os.listdir(path)"
   ]
  },
  {
   "cell_type": "code",
   "execution_count": 5,
   "metadata": {},
   "outputs": [],
   "source": [
    "# for i in pa:\n",
    "#     print(i)"
   ]
  },
  {
   "cell_type": "code",
   "execution_count": 6,
   "metadata": {},
   "outputs": [],
   "source": [
    "pa=pa[:-1]"
   ]
  },
  {
   "cell_type": "code",
   "execution_count": 8,
   "metadata": {},
   "outputs": [],
   "source": [
    "# pa"
   ]
  },
  {
   "cell_type": "code",
   "execution_count": null,
   "metadata": {},
   "outputs": [],
   "source": []
  },
  {
   "cell_type": "markdown",
   "metadata": {},
   "source": [
    "### Converting from ppm to jpg from each folders in Training Dataset"
   ]
  },
  {
   "cell_type": "code",
   "execution_count": 135,
   "metadata": {},
   "outputs": [],
   "source": [
    "for j in pa:\n",
    "    df= pd.read_csv(r\"C:/Users/Abhishek/Desktop/GTSRB-Training_fixed/GTSRB/Training/\"+j+\"/\"+\"GT-\"+j+\".csv\",sep=';')\n",
    "    os.mkdir('Train/'+j+\"/\")\n",
    "    for i in range(df.shape[0]):\n",
    "        p=r\"C:/Users/Abhishek/Desktop/GTSRB-Training_fixed/GTSRB/Training/\"+j+\"/\"+df['Filename'].iloc[i]\n",
    "        im = Image.open(p)\n",
    "#         im = im.crop(tuple(df[['Roi.X1','Roi.Y1','Roi.X2','Roi.Y2']].iloc[i]))\n",
    "        f=df['Filename'].iloc[i].split('.')[0]+\".jpg\"\n",
    "        im.save('Train/'+j+\"/\"+f)"
   ]
  },
  {
   "cell_type": "markdown",
   "metadata": {},
   "source": [
    "### Observing width and height"
   ]
  },
  {
   "cell_type": "code",
   "execution_count": 6,
   "metadata": {},
   "outputs": [],
   "source": [
    "w=[]\n",
    "h=[]\n",
    "for j in pa:\n",
    "    df= pd.read_csv(r\"C:/Users/Abhishek/Desktop/GTSRB-Training_fixed/GTSRB/Training/\"+j+\"/\"+\"GT-\"+j+\".csv\",sep=';')\n",
    "    for i in range(df.shape[0]):\n",
    "        p=r\"C:/Users/Abhishek/Desktop/GTSRB-Training_fixed/GTSRB/Training/\"+j+\"/\"+df['Filename'].iloc[i]\n",
    "        im = Image.open(p)\n",
    "        width, height = im.size\n",
    "        w.append(width)\n",
    "        h.append(height)"
   ]
  },
  {
   "cell_type": "code",
   "execution_count": 7,
   "metadata": {},
   "outputs": [
    {
     "name": "stdout",
     "output_type": "stream",
     "text": [
      "50th percentile 43.0\n",
      "70th percentile 54.0\n",
      "80th percentile 63.0\n",
      "90th percentile 82.0\n",
      "92th percentile 87.88000000000102\n",
      "95th percentile 101.04999999999927\n",
      "97th percentile 117.0\n"
     ]
    }
   ],
   "source": [
    "import numpy as np\n",
    "# w.sort(reverse=True)\n",
    "w = np.array(w)\n",
    "print(\"50th percentile\",np.percentile(w, 50))\n",
    "print(\"70th percentile\",np.percentile(w, 70))\n",
    "print(\"80th percentile\",np.percentile(w, 80))\n",
    "print(\"90th percentile\",np.percentile(w, 90))\n",
    "print(\"92th percentile\",np.percentile(w, 92))\n",
    "print(\"95th percentile\",np.percentile(w, 95))\n",
    "print(\"97th percentile\",np.percentile(w, 97))"
   ]
  },
  {
   "cell_type": "code",
   "execution_count": 8,
   "metadata": {},
   "outputs": [
    {
     "data": {
      "text/plain": [
       "50.93378378378378"
      ]
     },
     "execution_count": 8,
     "metadata": {},
     "output_type": "execute_result"
    }
   ],
   "source": [
    "sum(w)/len(w)"
   ]
  },
  {
   "cell_type": "code",
   "execution_count": 9,
   "metadata": {},
   "outputs": [
    {
     "name": "stdout",
     "output_type": "stream",
     "text": [
      "50th percentile 43.0\n",
      "70th percentile 54.0\n",
      "80th percentile 62.0\n",
      "90th percentile 81.0\n",
      "92th percentile 86.0\n",
      "95th percentile 98.0\n",
      "97th percentile 111.0\n"
     ]
    }
   ],
   "source": [
    "import numpy as np\n",
    "# h.sort(reverse=True)\n",
    "h = np.array(h)\n",
    "print(\"50th percentile\",np.percentile(h, 50))\n",
    "print(\"70th percentile\",np.percentile(h, 70))\n",
    "print(\"80th percentile\",np.percentile(h, 80))\n",
    "print(\"90th percentile\",np.percentile(h, 90))\n",
    "print(\"92th percentile\",np.percentile(h, 92))\n",
    "print(\"95th percentile\",np.percentile(h, 95))\n",
    "print(\"97th percentile\",np.percentile(h, 97))"
   ]
  },
  {
   "cell_type": "code",
   "execution_count": 10,
   "metadata": {},
   "outputs": [
    {
     "data": {
      "text/plain": [
       "50.36512762762763"
      ]
     },
     "execution_count": 10,
     "metadata": {},
     "output_type": "execute_result"
    }
   ],
   "source": [
    "sum(h)/len(h)"
   ]
  },
  {
   "cell_type": "code",
   "execution_count": null,
   "metadata": {},
   "outputs": [],
   "source": []
  },
  {
   "cell_type": "markdown",
   "metadata": {},
   "source": [
    "###  Resizing images and storing new boundary box coordinates"
   ]
  },
  {
   "cell_type": "code",
   "execution_count": 11,
   "metadata": {},
   "outputs": [],
   "source": [
    "data=[]\n",
    "labels=[]\n",
    "for j in pa:\n",
    "    df= pd.read_csv(r\"C:/Users/Abhishek/Desktop/GTSRB-Training_fixed/GTSRB/Training/\"+j+\"/\"+\"GT-\"+j+\".csv\",sep=';')\n",
    "    a=[]\n",
    "    for i in range(df.shape[0]):\n",
    "        p=r\"C:/Users/Abhishek/Desktop/Train/\"+j+\"/\"+df['Filename'].iloc[i].split(\".\")[0]+'.jpg'\n",
    "        im = Image.open(p)\n",
    "        wi,he=im.size\n",
    "        wi_r = 50/wi\n",
    "        he_r = 50/he\n",
    "        im = im.resize((50,50))\n",
    "        x1,y1,x2,y2 = tuple(df[['Roi.X1','Roi.Y1','Roi.X2','Roi.Y2']].iloc[i])\n",
    "        fn=df['Filename'].iloc[i].split(\".\")[0]+'.jpg'\n",
    "        xl = int(np.round(x1*wi_r))\n",
    "        yl = int(np.round(y1*he_r))\n",
    "        xr = int(np.round(x2*wi_r))\n",
    "        yr = int(np.round(y2*he_r))\n",
    "        a.append([fn,xl,yl,xr,yr])\n",
    "        data.append(np.array(im))\n",
    "        labels.append(df['ClassId'].iloc[i])\n",
    "    pd.DataFrame(data=a,columns=[\"Filename\",\"x1\",\"y1\",\"x2\",\"y2\"]).to_csv(r\"C:/Users/Abhishek/Desktop/Train/\"+j+\"/\"+j+\".csv\")"
   ]
  },
  {
   "cell_type": "code",
   "execution_count": null,
   "metadata": {},
   "outputs": [],
   "source": []
  },
  {
   "cell_type": "code",
   "execution_count": 12,
   "metadata": {},
   "outputs": [
    {
     "data": {
      "text/html": [
       "<div>\n",
       "<style scoped>\n",
       "    .dataframe tbody tr th:only-of-type {\n",
       "        vertical-align: middle;\n",
       "    }\n",
       "\n",
       "    .dataframe tbody tr th {\n",
       "        vertical-align: top;\n",
       "    }\n",
       "\n",
       "    .dataframe thead th {\n",
       "        text-align: right;\n",
       "    }\n",
       "</style>\n",
       "<table border=\"1\" class=\"dataframe\">\n",
       "  <thead>\n",
       "    <tr style=\"text-align: right;\">\n",
       "      <th></th>\n",
       "      <th>Filename</th>\n",
       "      <th>Width</th>\n",
       "      <th>Height</th>\n",
       "      <th>Roi.X1</th>\n",
       "      <th>Roi.Y1</th>\n",
       "      <th>Roi.X2</th>\n",
       "      <th>Roi.Y2</th>\n",
       "      <th>ClassId</th>\n",
       "    </tr>\n",
       "  </thead>\n",
       "  <tbody>\n",
       "    <tr>\n",
       "      <th>0</th>\n",
       "      <td>00000_00000.ppm</td>\n",
       "      <td>27</td>\n",
       "      <td>28</td>\n",
       "      <td>5</td>\n",
       "      <td>6</td>\n",
       "      <td>22</td>\n",
       "      <td>23</td>\n",
       "      <td>42</td>\n",
       "    </tr>\n",
       "    <tr>\n",
       "      <th>1</th>\n",
       "      <td>00000_00001.ppm</td>\n",
       "      <td>29</td>\n",
       "      <td>27</td>\n",
       "      <td>6</td>\n",
       "      <td>5</td>\n",
       "      <td>23</td>\n",
       "      <td>22</td>\n",
       "      <td>42</td>\n",
       "    </tr>\n",
       "    <tr>\n",
       "      <th>2</th>\n",
       "      <td>00000_00002.ppm</td>\n",
       "      <td>29</td>\n",
       "      <td>29</td>\n",
       "      <td>6</td>\n",
       "      <td>6</td>\n",
       "      <td>24</td>\n",
       "      <td>24</td>\n",
       "      <td>42</td>\n",
       "    </tr>\n",
       "    <tr>\n",
       "      <th>3</th>\n",
       "      <td>00000_00003.ppm</td>\n",
       "      <td>28</td>\n",
       "      <td>29</td>\n",
       "      <td>5</td>\n",
       "      <td>6</td>\n",
       "      <td>23</td>\n",
       "      <td>24</td>\n",
       "      <td>42</td>\n",
       "    </tr>\n",
       "    <tr>\n",
       "      <th>4</th>\n",
       "      <td>00000_00004.ppm</td>\n",
       "      <td>31</td>\n",
       "      <td>29</td>\n",
       "      <td>5</td>\n",
       "      <td>5</td>\n",
       "      <td>25</td>\n",
       "      <td>24</td>\n",
       "      <td>42</td>\n",
       "    </tr>\n",
       "  </tbody>\n",
       "</table>\n",
       "</div>"
      ],
      "text/plain": [
       "          Filename  Width  Height  Roi.X1  Roi.Y1  Roi.X2  Roi.Y2  ClassId\n",
       "0  00000_00000.ppm     27      28       5       6      22      23       42\n",
       "1  00000_00001.ppm     29      27       6       5      23      22       42\n",
       "2  00000_00002.ppm     29      29       6       6      24      24       42\n",
       "3  00000_00003.ppm     28      29       5       6      23      24       42\n",
       "4  00000_00004.ppm     31      29       5       5      25      24       42"
      ]
     },
     "execution_count": 12,
     "metadata": {},
     "output_type": "execute_result"
    }
   ],
   "source": [
    "df.head()"
   ]
  },
  {
   "cell_type": "markdown",
   "metadata": {},
   "source": [
    "### Converting from ppm to jpg fromTest folders"
   ]
  },
  {
   "cell_type": "code",
   "execution_count": 14,
   "metadata": {},
   "outputs": [],
   "source": [
    "df=pd.read_csv(r'C:/Users/Abhishek/Desktop/GTSRB_Online-Test-Images/GTSRB/Online-Test/Images/GT-online_test.test.csv',sep=';')\n",
    "os.mkdir('Test/')\n",
    "for i in range(df.shape[0]):\n",
    "        p=r\"C:/Users/Abhishek/Desktop/GTSRB_Online-Test-Images/GTSRB/Online-Test/Images/\"+df['Filename'].iloc[i]\n",
    "        im = Image.open(p)\n",
    "#         im = im.crop(tuple(df[['Roi.X1','Roi.Y1','Roi.X2','Roi.Y2']].iloc[i]))\n",
    "        f=df['Filename'].iloc[i].split('.')[0]+\".jpg\"\n",
    "        im.save('Test/'+f)"
   ]
  },
  {
   "cell_type": "markdown",
   "metadata": {},
   "source": [
    "### Resizing images and storing new boundary box coordinates"
   ]
  },
  {
   "cell_type": "code",
   "execution_count": 15,
   "metadata": {},
   "outputs": [],
   "source": [
    "test=[]\n",
    "a=[]\n",
    "for i in range(df.shape[0]):\n",
    "        p=r\"C:/Users/Abhishek/Desktop/Test/\"+df['Filename'].iloc[i].split(\".\")[0]+'.jpg'\n",
    "        im = Image.open(p)\n",
    "        wi,he=im.size\n",
    "        wi_r = 50/wi\n",
    "        he_r = 50/he\n",
    "        im = im.resize((50,50))\n",
    "        x1,y1,x2,y2 = tuple(df[['Roi.X1','Roi.Y1','Roi.X2','Roi.Y2']].iloc[i])\n",
    "        fn=df['Filename'].iloc[i].split(\".\")[0]+'.jpg'\n",
    "        xl = int(np.round(x1*wi_r))\n",
    "        yl = int(np.round(y1*he_r))\n",
    "        xr = int(np.round(x2*wi_r))\n",
    "        yr = int(np.round(y2*he_r))\n",
    "        a.append([fn,wi,he,xl,yl,xr,yr])\n",
    "        test.append(np.array(im))\n",
    "pd.DataFrame(data=a,columns=[\"Filename\",\"Width\",\"Height\",\"x1\",\"y1\",\"x2\",\"y2\"]).to_csv(\"test.csv\")"
   ]
  },
  {
   "cell_type": "code",
   "execution_count": 16,
   "metadata": {},
   "outputs": [],
   "source": [
    "test=np.array(test)"
   ]
  },
  {
   "cell_type": "markdown",
   "metadata": {},
   "source": [
    "### Saving in pickle files"
   ]
  },
  {
   "cell_type": "code",
   "execution_count": 21,
   "metadata": {},
   "outputs": [
    {
     "ename": "NameError",
     "evalue": "name 'test' is not defined",
     "output_type": "error",
     "traceback": [
      "\u001b[1;31m---------------------------------------------------------------------------\u001b[0m",
      "\u001b[1;31mNameError\u001b[0m                                 Traceback (most recent call last)",
      "\u001b[1;32m<ipython-input-21-522dd93fa70a>\u001b[0m in \u001b[0;36m<module>\u001b[1;34m()\u001b[0m\n\u001b[0;32m      1\u001b[0m \u001b[1;32mimport\u001b[0m \u001b[0mpickle\u001b[0m\u001b[1;33m\u001b[0m\u001b[0m\n\u001b[0;32m      2\u001b[0m \u001b[0moutput\u001b[0m \u001b[1;33m=\u001b[0m \u001b[0mopen\u001b[0m\u001b[1;33m(\u001b[0m\u001b[1;34m'test_data.pkl'\u001b[0m\u001b[1;33m,\u001b[0m \u001b[1;34m'wb'\u001b[0m\u001b[1;33m)\u001b[0m\u001b[1;33m\u001b[0m\u001b[0m\n\u001b[1;32m----> 3\u001b[1;33m \u001b[0mpickle\u001b[0m\u001b[1;33m.\u001b[0m\u001b[0mdump\u001b[0m\u001b[1;33m(\u001b[0m\u001b[0mtest\u001b[0m\u001b[1;33m,\u001b[0m \u001b[0moutput\u001b[0m\u001b[1;33m)\u001b[0m\u001b[1;33m\u001b[0m\u001b[0m\n\u001b[0m\u001b[0;32m      4\u001b[0m \u001b[0moutput\u001b[0m\u001b[1;33m.\u001b[0m\u001b[0mclose\u001b[0m\u001b[1;33m(\u001b[0m\u001b[1;33m)\u001b[0m\u001b[1;33m\u001b[0m\u001b[0m\n",
      "\u001b[1;31mNameError\u001b[0m: name 'test' is not defined"
     ]
    }
   ],
   "source": [
    "import pickle\n",
    "output = open('test_data.pkl', 'wb')\n",
    "pickle.dump(test, output)\n",
    "output.close()"
   ]
  },
  {
   "cell_type": "code",
   "execution_count": 18,
   "metadata": {},
   "outputs": [],
   "source": [
    "pickle_in = open('test_data.pkl',\"rb\")\n",
    "test = pickle.load(pickle_in)"
   ]
  },
  {
   "cell_type": "code",
   "execution_count": 20,
   "metadata": {},
   "outputs": [
    {
     "ename": "NameError",
     "evalue": "name 'test' is not defined",
     "output_type": "error",
     "traceback": [
      "\u001b[1;31m---------------------------------------------------------------------------\u001b[0m",
      "\u001b[1;31mNameError\u001b[0m                                 Traceback (most recent call last)",
      "\u001b[1;32m<ipython-input-20-8ae592785626>\u001b[0m in \u001b[0;36m<module>\u001b[1;34m()\u001b[0m\n\u001b[1;32m----> 1\u001b[1;33m \u001b[0mtest\u001b[0m\u001b[1;33m.\u001b[0m\u001b[0mshape\u001b[0m\u001b[1;33m\u001b[0m\u001b[0m\n\u001b[0m",
      "\u001b[1;31mNameError\u001b[0m: name 'test' is not defined"
     ]
    }
   ],
   "source": [
    "test.shape"
   ]
  },
  {
   "cell_type": "code",
   "execution_count": 20,
   "metadata": {},
   "outputs": [
    {
     "data": {
      "text/plain": [
       "26640"
      ]
     },
     "execution_count": 20,
     "metadata": {},
     "output_type": "execute_result"
    }
   ],
   "source": [
    "len(data)"
   ]
  },
  {
   "cell_type": "code",
   "execution_count": 21,
   "metadata": {},
   "outputs": [],
   "source": [
    "data=np.array(data)\n",
    "labels=np.array(labels)"
   ]
  },
  {
   "cell_type": "code",
   "execution_count": 22,
   "metadata": {},
   "outputs": [
    {
     "name": "stdout",
     "output_type": "stream",
     "text": [
      "(26640, 50, 50, 3)\n",
      "(26640,)\n"
     ]
    }
   ],
   "source": [
    "print(data.shape)\n",
    "print(labels.shape)"
   ]
  },
  {
   "cell_type": "code",
   "execution_count": 23,
   "metadata": {},
   "outputs": [],
   "source": [
    "import pickle\n",
    "output = open('train_data.pkl', 'wb')\n",
    "pickle.dump(data, output)\n",
    "output.close()"
   ]
  },
  {
   "cell_type": "code",
   "execution_count": 2,
   "metadata": {},
   "outputs": [],
   "source": [
    "import pickle\n",
    "pickle_in = open(r'C:\\Users\\Abhishek\\Desktop\\New folder\\train_data.pkl',\"rb\")\n",
    "data = pickle.load(pickle_in)"
   ]
  },
  {
   "cell_type": "code",
   "execution_count": 13,
   "metadata": {},
   "outputs": [
    {
     "data": {
      "text/plain": [
       "(50, 50, 3)"
      ]
     },
     "execution_count": 13,
     "metadata": {},
     "output_type": "execute_result"
    }
   ],
   "source": [
    "data[0].shape\n",
    "# data[26639]"
   ]
  },
  {
   "cell_type": "code",
   "execution_count": 8,
   "metadata": {},
   "outputs": [],
   "source": [
    "d=dict()\n",
    "for i in range(data.shape[0]):\n",
    "    d[str(i)]=data[i]"
   ]
  },
  {
   "cell_type": "code",
   "execution_count": 17,
   "metadata": {},
   "outputs": [],
   "source": [
    "import pickle\n",
    "output = open('train_data_dict.pkl', 'wb')\n",
    "pickle.dump(d, output)\n",
    "output.close()"
   ]
  },
  {
   "cell_type": "code",
   "execution_count": 15,
   "metadata": {},
   "outputs": [],
   "source": [
    "# d[\"26639\"]==data[26639]"
   ]
  },
  {
   "cell_type": "code",
   "execution_count": 16,
   "metadata": {},
   "outputs": [
    {
     "data": {
      "text/plain": [
       "(26640, 50, 50, 3)"
      ]
     },
     "execution_count": 16,
     "metadata": {},
     "output_type": "execute_result"
    }
   ],
   "source": [
    "data.shape"
   ]
  },
  {
   "cell_type": "code",
   "execution_count": null,
   "metadata": {},
   "outputs": [],
   "source": []
  },
  {
   "cell_type": "code",
   "execution_count": 26,
   "metadata": {},
   "outputs": [],
   "source": [
    "import pickle\n",
    "output = open('labels.pkl', 'wb')\n",
    "pickle.dump(labels, output)\n",
    "output.close()"
   ]
  },
  {
   "cell_type": "code",
   "execution_count": 26,
   "metadata": {},
   "outputs": [],
   "source": [
    "pickle_in = open(r'C:\\Users\\Abhishek\\Desktop\\New folder\\labels.pkl',\"rb\")\n",
    "label = pickle.load(pickle_in)"
   ]
  },
  {
   "cell_type": "code",
   "execution_count": 30,
   "metadata": {},
   "outputs": [
    {
     "data": {
      "text/plain": [
       "array([ 0,  0,  0, ..., 42, 42, 42], dtype=int64)"
      ]
     },
     "execution_count": 30,
     "metadata": {},
     "output_type": "execute_result"
    }
   ],
   "source": [
    "label.shape\n",
    "type(label)\n",
    "label"
   ]
  },
  {
   "cell_type": "code",
   "execution_count": 31,
   "metadata": {},
   "outputs": [],
   "source": [
    "# d=pd.DataFrame({\"Images\":data,\"Class\":label})"
   ]
  },
  {
   "cell_type": "markdown",
   "metadata": {},
   "source": [
    "### distribution of test data"
   ]
  },
  {
   "cell_type": "code",
   "execution_count": 29,
   "metadata": {},
   "outputs": [],
   "source": [
    "dist=[]"
   ]
  },
  {
   "cell_type": "code",
   "execution_count": 30,
   "metadata": {},
   "outputs": [],
   "source": [
    "for i in range(43):\n",
    "    dist.append(len(labels[labels==i]))"
   ]
  },
  {
   "cell_type": "code",
   "execution_count": 31,
   "metadata": {},
   "outputs": [
    {
     "name": "stdout",
     "output_type": "stream",
     "text": [
      "[150, 1500, 1500, 960, 1320, 1260, 300, 960, 960, 990, 1350, 900, 1410, 1440, 540, 420, 300, 750, 810, 150, 240, 240, 270, 360, 180, 1020, 420, 180, 360, 180, 300, 540, 180, 480, 300, 810, 270, 150, 1380, 210, 240, 180, 180]\n"
     ]
    }
   ],
   "source": [
    "print(dist)"
   ]
  },
  {
   "cell_type": "code",
   "execution_count": 33,
   "metadata": {},
   "outputs": [
    {
     "data": {
      "image/png": "[encoded data removed]",
      "text/plain": [
       "<Figure size 640x480 with 1 Axes>"
      ]
     },
     "metadata": {},
     "output_type": "display_data"
    }
   ],
   "source": [
    "# https://pythonspot.com/matplotlib-bar-chart/\n",
    "\n",
    "import matplotlib.pyplot as plt; plt.rcdefaults()\n",
    "import numpy as np\n",
    "import matplotlib.pyplot as plt\n",
    "\n",
    "y_pos = np.arange(43)\n",
    "performance = dist\n",
    "\n",
    "plt.bar(y_pos, performance, align='center', alpha=0.5)\n",
    "plt.ylabel('No of Images')\n",
    "plt.title('Distribution')\n",
    "\n",
    "plt.show()"
   ]
  },
  {
   "cell_type": "markdown",
   "metadata": {},
   "source": []
  },
  {
   "cell_type": "code",
   "execution_count": 34,
   "metadata": {},
   "outputs": [],
   "source": [
    "df_ppm = pd.read_csv(r\"C:/Users/Abhishek/Desktop/GTSRB-Training_fixed/GTSRB/Training/\"+\"00000\"+\"/\"+\"GT-\"+\"00000\"+\".csv\",sep=';')"
   ]
  },
  {
   "cell_type": "code",
   "execution_count": 35,
   "metadata": {},
   "outputs": [
    {
     "data": {
      "text/plain": [
       "(11, 11, 112, 114)"
      ]
     },
     "execution_count": 35,
     "metadata": {},
     "output_type": "execute_result"
    }
   ],
   "source": [
    "a=df_ppm[[\"Roi.X1\",\"Roi.Y1\",\"Roi.X2\",\"Roi.Y2\"]][df_ppm[\"Filename\"]==\"00002_00029.ppm\"]\n",
    "tuple(a.iloc[0])"
   ]
  },
  {
   "cell_type": "code",
   "execution_count": 37,
   "metadata": {},
   "outputs": [
    {
     "name": "stdout",
     "output_type": "stream",
     "text": [
      "(5, 4, 46, 46)\n"
     ]
    },
    {
     "data": {
      "image/png": "[encoded data removed]",
      "text/plain": [
       "<PIL.Image.Image image mode=RGB size=50x50 at 0x1336C999D68>"
      ]
     },
     "execution_count": 37,
     "metadata": {},
     "output_type": "execute_result"
    }
   ],
   "source": [
    "# im = Image.open(\"00002_00029.ppm\")\n",
    "# im\n",
    "from PIL import Image, ImageDraw \n",
    "df=pd.read_csv('C:/Users/Abhishek/Desktop/Train/'+\"00000\"+\"/\"+'00000'+\".csv\")\n",
    "a=df[[\"x1\",\"y1\",\"x2\",\"y2\"]][df[\"Filename\"]==\"00002_00029.jpg\"]\n",
    "coordinates=tuple(a.iloc[0])\n",
    "p='C:/Users/Abhishek/Desktop/Train/'+\"00000\"+\"/\"+\"00002_00029.jpg\"\n",
    "im=Image.open(p)\n",
    "im=im.resize((50,50))\n",
    "img1 = ImageDraw.Draw(im)\n",
    "img1.rectangle(coordinates, outline =\"red\")\n",
    "print(coordinates)\n",
    "im"
   ]
  },
  {
   "cell_type": "code",
   "execution_count": 38,
   "metadata": {},
   "outputs": [
    {
     "name": "stdout",
     "output_type": "stream",
     "text": [
      "(5, 4, 46, 46)\n",
      "(5, 4, 46, 46)\n",
      "(4, 4, 46, 46)\n",
      "(4, 5, 46, 46)\n",
      "(4, 5, 45, 46)\n",
      "(5, 5, 45, 45)\n",
      "(4, 4, 46, 46)\n",
      "(5, 4, 46, 46)\n",
      "(4, 5, 46, 46)\n",
      "(4, 4, 46, 46)\n"
     ]
    }
   ],
   "source": [
    "# https://www.geeksforgeeks.org/python-pil-imagedraw-draw-rectangle/\n",
    "import math \n",
    "from PIL import Image, ImageDraw \n",
    "p=[\"00000\",\"00002\",\"00004\",\"00006\",\"00008\",\"00010\",\"00012\",\"00014\",\"00016\",\"00018\"]\n",
    "image=[]\n",
    "for i in p:\n",
    "    df=pd.read_csv('C:/Users/Abhishek/Desktop/Train/'+i+\"/\"+i+\".csv\")\n",
    "#     print(df.head())\n",
    "    a=df[[\"x1\",\"y1\",\"x2\",\"y2\"]][df[\"Filename\"]==\"00002_00029.jpg\"]\n",
    "    coordinates=tuple(a.iloc[0])\n",
    "    print(coordinates)\n",
    "    p='C:/Users/Abhishek/Desktop/Train/'+i+\"/\"+\"00002_00029.jpg\"\n",
    "    im=Image.open(p)\n",
    "    im=im.resize((50,50))\n",
    "    img1 = ImageDraw.Draw(im)\n",
    "    img1.rectangle(coordinates, outline =\"red\")\n",
    "    image.append(im)"
   ]
  },
  {
   "cell_type": "code",
   "execution_count": 54,
   "metadata": {},
   "outputs": [
    {
     "data": {
      "image/png": "[encoded data removed]",
      "text/plain": [
       "<PIL.Image.Image image mode=RGB size=50x50 at 0x1337FF1B358>"
      ]
     },
     "execution_count": 54,
     "metadata": {},
     "output_type": "execute_result"
    }
   ],
   "source": [
    "import pylab as plt\n",
    "plt.imshow(image[0])\n",
    "image[0]"
   ]
  },
  {
   "cell_type": "code",
   "execution_count": 57,
   "metadata": {},
   "outputs": [
    {
     "data": {
      "image/png": "[encoded data removed]",
      "text/plain": [
       "<PIL.Image.Image image mode=RGB size=50x50 at 0x1336C8FADA0>"
      ]
     },
     "execution_count": 57,
     "metadata": {},
     "output_type": "execute_result"
    }
   ],
   "source": [
    "import pylab as plt\n",
    "plt.imshow(image[1])\n",
    "image[1]"
   ]
  },
  {
   "cell_type": "code",
   "execution_count": 46,
   "metadata": {},
   "outputs": [
    {
     "data": {
      "text/plain": [
       "<matplotlib.image.AxesImage at 0x13378a682b0>"
      ]
     },
     "execution_count": 46,
     "metadata": {},
     "output_type": "execute_result"
    }
   ],
   "source": [
    "plt.imshow(image[2])"
   ]
  },
  {
   "cell_type": "code",
   "execution_count": 47,
   "metadata": {},
   "outputs": [
    {
     "data": {
      "text/plain": [
       "<matplotlib.image.AxesImage at 0x13378a686a0>"
      ]
     },
     "execution_count": 47,
     "metadata": {},
     "output_type": "execute_result"
    }
   ],
   "source": [
    "plt.imshow(image[3])"
   ]
  },
  {
   "cell_type": "code",
   "execution_count": 48,
   "metadata": {},
   "outputs": [
    {
     "data": {
      "text/plain": [
       "<matplotlib.image.AxesImage at 0x13378a689e8>"
      ]
     },
     "execution_count": 48,
     "metadata": {},
     "output_type": "execute_result"
    }
   ],
   "source": [
    "plt.imshow(image[4])"
   ]
  },
  {
   "cell_type": "code",
   "execution_count": 49,
   "metadata": {},
   "outputs": [
    {
     "data": {
      "text/plain": [
       "<matplotlib.image.AxesImage at 0x13378a68978>"
      ]
     },
     "execution_count": 49,
     "metadata": {},
     "output_type": "execute_result"
    }
   ],
   "source": [
    "plt.imshow(image[5])"
   ]
  },
  {
   "cell_type": "code",
   "execution_count": 50,
   "metadata": {},
   "outputs": [
    {
     "data": {
      "text/plain": [
       "<matplotlib.image.AxesImage at 0x13378a68668>"
      ]
     },
     "execution_count": 50,
     "metadata": {},
     "output_type": "execute_result"
    }
   ],
   "source": [
    "plt.imshow(image[6])"
   ]
  },
  {
   "cell_type": "code",
   "execution_count": 51,
   "metadata": {},
   "outputs": [
    {
     "data": {
      "text/plain": [
       "<matplotlib.image.AxesImage at 0x13378a5d390>"
      ]
     },
     "execution_count": 51,
     "metadata": {},
     "output_type": "execute_result"
    }
   ],
   "source": [
    "plt.imshow(image[7])"
   ]
  },
  {
   "cell_type": "code",
   "execution_count": 52,
   "metadata": {},
   "outputs": [
    {
     "data": {
      "text/plain": [
       "<matplotlib.image.AxesImage at 0x13378a5d630>"
      ]
     },
     "execution_count": 52,
     "metadata": {},
     "output_type": "execute_result"
    }
   ],
   "source": [
    "plt.imshow(image[8])"
   ]
  },
  {
   "cell_type": "code",
   "execution_count": 58,
   "metadata": {},
   "outputs": [
    {
     "data": {
      "image/png": "[encoded data removed]",
      "text/plain": [
       "<PIL.Image.Image image mode=RGB size=50x50 at 0x1336C969A90>"
      ]
     },
     "execution_count": 58,
     "metadata": {},
     "output_type": "execute_result"
    }
   ],
   "source": [
    "plt.imshow(image[9])\n",
    "image[9]"
   ]
  },
  {
   "cell_type": "code",
   "execution_count": 11,
   "metadata": {},
   "outputs": [],
   "source": [
    "q=pd.DataFrame()\n",
    "a = pd.DataFrame([['Fi'],['Ki']],columns=['User'], index=['A1','A2'],) #'ID')\n",
    "b = pd.DataFrame([['Fi'],['Ki']],columns=['User'], index=['A4','A5'],) #'ID')pd.concat([a,b])\n",
    "q=q.append(a)\n",
    "q=q.append(b)"
   ]
  },
  {
   "cell_type": "code",
   "execution_count": 14,
   "metadata": {},
   "outputs": [
    {
     "data": {
      "text/html": [
       "<div>\n",
       "<style scoped>\n",
       "    .dataframe tbody tr th:only-of-type {\n",
       "        vertical-align: middle;\n",
       "    }\n",
       "\n",
       "    .dataframe tbody tr th {\n",
       "        vertical-align: top;\n",
       "    }\n",
       "\n",
       "    .dataframe thead th {\n",
       "        text-align: right;\n",
       "    }\n",
       "</style>\n",
       "<table border=\"1\" class=\"dataframe\">\n",
       "  <thead>\n",
       "    <tr style=\"text-align: right;\">\n",
       "      <th></th>\n",
       "      <th>User</th>\n",
       "    </tr>\n",
       "  </thead>\n",
       "  <tbody>\n",
       "    <tr>\n",
       "      <th>A1</th>\n",
       "      <td>Fi</td>\n",
       "    </tr>\n",
       "    <tr>\n",
       "      <th>A2</th>\n",
       "      <td>Ki</td>\n",
       "    </tr>\n",
       "    <tr>\n",
       "      <th>A4</th>\n",
       "      <td>Fi</td>\n",
       "    </tr>\n",
       "    <tr>\n",
       "      <th>A5</th>\n",
       "      <td>Ki</td>\n",
       "    </tr>\n",
       "  </tbody>\n",
       "</table>\n",
       "</div>"
      ],
      "text/plain": [
       "   User\n",
       "A1   Fi\n",
       "A2   Ki\n",
       "A4   Fi\n",
       "A5   Ki"
      ]
     },
     "execution_count": 14,
     "metadata": {},
     "output_type": "execute_result"
    }
   ],
   "source": [
    "q"
   ]
  },
  {
   "cell_type": "code",
   "execution_count": 32,
   "metadata": {},
   "outputs": [],
   "source": [
    "import pandas as pd\n",
    "df=pd.DataFrame()\n",
    "for i in pa:\n",
    "    df1=pd.read_csv('C:/Users/Abhishek/Desktop/Train/'+i+\"/\"+i+\".csv\")\n",
    "    df=df.append(df1)"
   ]
  },
  {
   "cell_type": "code",
   "execution_count": 33,
   "metadata": {},
   "outputs": [
    {
     "data": {
      "text/plain": [
       "(26640, 6)"
      ]
     },
     "execution_count": 33,
     "metadata": {},
     "output_type": "execute_result"
    }
   ],
   "source": [
    "df.shape"
   ]
  },
  {
   "cell_type": "code",
   "execution_count": 34,
   "metadata": {},
   "outputs": [],
   "source": [
    "df[\"class\"]=label"
   ]
  },
  {
   "cell_type": "code",
   "execution_count": 36,
   "metadata": {},
   "outputs": [],
   "source": [
    "df.to_csv(\"Train.csv\")"
   ]
  },
  {
   "cell_type": "code",
   "execution_count": null,
   "metadata": {},
   "outputs": [],
   "source": []
  },
  {
   "cell_type": "code",
   "execution_count": 18,
   "metadata": {},
   "outputs": [],
   "source": [
    "# import pandas as pd\n",
    "# df_test=pd.DataFrame()\n",
    "# for i in pa:\n",
    "#     df1=pd.read_csv('C:/Users/Abhishek/Desktop/Train/'+i+\"/\"+i+\".csv\")\n",
    "#     df=df.append(df1)"
   ]
  },
  {
   "cell_type": "code",
   "execution_count": 125,
   "metadata": {},
   "outputs": [],
   "source": [
    "# im = Image.open(\"00002_00029.ppm\")\n",
    "# im=im.crop((11,11,112,114))\n",
    "# im"
   ]
  },
  {
   "cell_type": "code",
   "execution_count": 28,
   "metadata": {},
   "outputs": [],
   "source": [
    "# df_jpg = pd.read_csv(r\"C:/Users/Abhishek/Desktop/Train/00000/00000.csv\")"
   ]
  },
  {
   "cell_type": "code",
   "execution_count": 126,
   "metadata": {},
   "outputs": [],
   "source": [
    "# df_jpg[df_jpg[\"Filename\"]==\"00002_00029.jpg\"]"
   ]
  },
  {
   "cell_type": "code",
   "execution_count": 127,
   "metadata": {},
   "outputs": [],
   "source": [
    "# im = Image.open(\"00002_00029.jpg\")\n",
    "# im"
   ]
  },
  {
   "cell_type": "code",
   "execution_count": 128,
   "metadata": {},
   "outputs": [],
   "source": [
    "# im = Image.open(\"00002_00029.jpg\")\n",
    "# im=im.resize((50,50))\n",
    "# im=im.crop((5,4,46,46))\n",
    "# im"
   ]
  },
  {
   "cell_type": "code",
   "execution_count": null,
   "metadata": {},
   "outputs": [],
   "source": []
  },
  {
   "cell_type": "code",
   "execution_count": 28,
   "metadata": {},
   "outputs": [],
   "source": [
    "# df_ppm = pd.read_csv(r\"C:/Users/Abhishek/Desktop/GTSRB-Training_fixed/GTSRB/Training/\"+\"00039\"+\"/\"+\"GT-\"+\"00039\"+\".csv\",sep=';')"
   ]
  },
  {
   "cell_type": "code",
   "execution_count": 129,
   "metadata": {},
   "outputs": [],
   "source": [
    "# df_ppm[df_ppm[\"Filename\"]==\"00004_00029.ppm\"]"
   ]
  },
  {
   "cell_type": "code",
   "execution_count": 130,
   "metadata": {},
   "outputs": [],
   "source": [
    "# im =Image.open(\"00004_00029.ppm\")\n",
    "# im"
   ]
  },
  {
   "cell_type": "code",
   "execution_count": 131,
   "metadata": {},
   "outputs": [],
   "source": [
    "# im = Image.open(\"00004_00029.ppm\")\n",
    "# im=im.crop((12,12,133,134))\n",
    "# im"
   ]
  },
  {
   "cell_type": "code",
   "execution_count": 33,
   "metadata": {},
   "outputs": [],
   "source": [
    "# df_jpg = pd.read_csv(r\"C:/Users/Abhishek/Desktop/Train/00039/00039.csv\")"
   ]
  },
  {
   "cell_type": "code",
   "execution_count": 132,
   "metadata": {},
   "outputs": [],
   "source": [
    "# df_jpg[df_jpg[\"Filename\"]==\"00004_00029.jpg\"]"
   ]
  },
  {
   "cell_type": "code",
   "execution_count": 133,
   "metadata": {},
   "outputs": [],
   "source": [
    "# im = Image.open(\"00004_00029.jpg\")\n",
    "# im"
   ]
  },
  {
   "cell_type": "code",
   "execution_count": 134,
   "metadata": {},
   "outputs": [],
   "source": [
    "# im = Image.open(\"00004_00029.jpg\")\n",
    "# im=im.resize((50,50))\n",
    "# im=im.crop((4,4,46,46))\n",
    "# im"
   ]
  },
  {
   "cell_type": "code",
   "execution_count": null,
   "metadata": {},
   "outputs": [],
   "source": []
  },
  {
   "cell_type": "code",
   "execution_count": null,
   "metadata": {},
   "outputs": [],
   "source": []
  }
 ],
 "metadata": {
  "kernelspec": {
   "display_name": "Python 3",
   "language": "python",
   "name": "python3"
  },
  "language_info": {
   "codemirror_mode": {
    "name": "ipython",
    "version": 3
   },
   "file_extension": ".py",
   "mimetype": "text/x-python",
   "name": "python",
   "nbconvert_exporter": "python",
   "pygments_lexer": "ipython3",
   "version": "3.6.4"
  }
 },
 "nbformat": 4,
 "nbformat_minor": 2
}
